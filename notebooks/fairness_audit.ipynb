{
 "cells": [
  {
   "cell_type": "code",
   "execution_count": 7,
   "id": "718fc8c6",
   "metadata": {},
   "outputs": [
    {
     "name": "stderr",
     "output_type": "stream",
     "text": [
      "WARNING:root:Missing Data: 5 rows removed from CompasDataset.\n"
     ]
    }
   ],
   "source": [
    "from aif360.datasets import CompasDataset\n",
    "import warnings\n",
    "warnings.filterwarnings(\"ignore\")\n",
    "\n",
    "dataset = CompasDataset()\n"
   ]
  },
  {
   "cell_type": "code",
   "execution_count": 8,
   "id": "8c450287",
   "metadata": {},
   "outputs": [],
   "source": [
    "privileged_groups = [{'race': 1}]\n",
    "unprivileged_groups = [{'race': 0}]\n"
   ]
  },
  {
   "cell_type": "code",
   "execution_count": 9,
   "id": "e939134e",
   "metadata": {},
   "outputs": [
    {
     "name": "stderr",
     "output_type": "stream",
     "text": [
      "WARNING:root:Missing Data: 5 rows removed from CompasDataset.\n"
     ]
    },
    {
     "name": "stdout",
     "output_type": "stream",
     "text": [
      "Disparate Impact: 0.840\n",
      "Equal Opportunity Difference: 0.000\n",
      "False Positive Rate Difference: 0.000\n"
     ]
    },
    {
     "data": {
      "image/png": "[encoded data removed]",
      "text/plain": [
       "<Figure size 640x480 with 1 Axes>"
      ]
     },
     "metadata": {},
     "output_type": "display_data"
    }
   ],
   "source": [
    "# Imports\n",
    "from aif360.datasets import CompasDataset\n",
    "from aif360.metrics import ClassificationMetric\n",
    "import matplotlib.pyplot as plt\n",
    "\n",
    "# Load COMPAS dataset\n",
    "dataset = CompasDataset()\n",
    "\n",
    "# Define privileged and unprivileged groups\n",
    "privileged_groups = [{'race': 1}]  # White\n",
    "unprivileged_groups = [{'race': 0}]  # Non-white\n",
    "\n",
    "# Suppose 'risk_score' is the predicted score — if not, you can simulate or use 'two_year_recid' as label\n",
    "# For demo, let's treat labels as predicted outcomes (usually you'd have model preds)\n",
    "preds = dataset.labels  # Placeholder, replace with actual model preds if available\n",
    "\n",
    "# Create a dataset copy for predictions\n",
    "dataset_pred = dataset.copy()\n",
    "dataset_pred.labels = preds\n",
    "\n",
    "# Initialize metric object\n",
    "metric = ClassificationMetric(dataset, dataset_pred, unprivileged_groups=unprivileged_groups, privileged_groups=privileged_groups)\n",
    "\n",
    "# Calculate key metrics\n",
    "disparate_impact = metric.disparate_impact()\n",
    "equal_opportunity_diff = metric.equal_opportunity_difference()\n",
    "false_positive_rate_diff = metric.false_positive_rate_difference()\n",
    "\n",
    "print(f\"Disparate Impact: {disparate_impact:.3f}\")\n",
    "print(f\"Equal Opportunity Difference: {equal_opportunity_diff:.3f}\")\n",
    "print(f\"False Positive Rate Difference: {false_positive_rate_diff:.3f}\")\n",
    "\n",
    "# Plotting these disparities\n",
    "metrics = [disparate_impact, equal_opportunity_diff, false_positive_rate_diff]\n",
    "labels = ['Disparate Impact', 'Equal Opportunity Diff', 'FPR Difference']\n",
    "\n",
    "plt.bar(labels, metrics, color=['blue', 'orange', 'green'])\n",
    "plt.title('Fairness Metrics on COMPAS Dataset')\n",
    "plt.ylabel('Metric Value')\n",
    "plt.ylim(min(metrics) - 0.1, max(metrics) + 0.1)\n",
    "plt.show()\n"
   ]
  },
  {
   "cell_type": "code",
   "execution_count": 10,
   "id": "db7a02e7",
   "metadata": {},
   "outputs": [
    {
     "name": "stdout",
     "output_type": "stream",
     "text": [
      "Original Disparate Impact: 0.8403836674666473\n",
      "Disparate Impact after Reweighing: 1.0000000000000002\n"
     ]
    }
   ],
   "source": [
    "from aif360.algorithms.preprocessing import Reweighing\n",
    "from aif360.metrics import BinaryLabelDatasetMetric\n",
    "\n",
    "# Define groups again (if needed)\n",
    "privileged_groups = [{'race': 1}]    # White\n",
    "unprivileged_groups = [{'race': 0}]  # Non-white\n",
    "\n",
    "# Original metric\n",
    "metric_orig = BinaryLabelDatasetMetric(dataset, unprivileged_groups=unprivileged_groups, privileged_groups=privileged_groups)\n",
    "print(\"Original Disparate Impact:\", metric_orig.disparate_impact())\n",
    "\n",
    "# Apply Reweighing to dataset\n",
    "RW = Reweighing(unprivileged_groups=unprivileged_groups, privileged_groups=privileged_groups)\n",
    "dataset_transf = RW.fit_transform(dataset)\n",
    "\n",
    "# Metric after reweighing\n",
    "metric_transf = BinaryLabelDatasetMetric(dataset_transf, unprivileged_groups=unprivileged_groups, privileged_groups=privileged_groups)\n",
    "print(\"Disparate Impact after Reweighing:\", metric_transf.disparate_impact())\n"
   ]
  }
 ],
 "metadata": {
  "kernelspec": {
   "display_name": "Python 3",
   "language": "python",
   "name": "python3"
  },
  "language_info": {
   "codemirror_mode": {
    "name": "ipython",
    "version": 3
   },
   "file_extension": ".py",
   "mimetype": "text/x-python",
   "name": "python",
   "nbconvert_exporter": "python",
   "pygments_lexer": "ipython3",
   "version": "3.13.2"
  }
 },
 "nbformat": 4,
 "nbformat_minor": 5
}
